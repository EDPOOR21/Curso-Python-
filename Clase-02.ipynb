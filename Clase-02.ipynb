{
 "cells": [
  {
   "cell_type": "markdown",
   "metadata": {},
   "source": [
    "# Clase 2"
   ]
  },
  {
   "cell_type": "code",
   "execution_count": 8,
   "metadata": {},
   "outputs": [
    {
     "name": "stdout",
     "output_type": "stream",
     "text": [
      "El valor mas alto es: 5 \n"
     ]
    }
   ],
   "source": [
    "valor_1 = input ('Dame el primer numero')\n",
    "valor_2 = input ('Dame el segundo numero')\n",
    "if valor_1 > valor_2:\n",
    "    print(f\"El valor mas alto es: {valor_1}\")\n",
    "else:\n",
    "    print (f\"El valor mas alto es: {valor_2} \") "
   ]
  },
  {
   "cell_type": "code",
   "execution_count": 9,
   "metadata": {},
   "outputs": [
    {
     "name": "stdout",
     "output_type": "stream",
     "text": [
      "['Manzana', 'Platano', 'Pera']\n"
     ]
    }
   ],
   "source": [
    "mis_frutas = [\"Manzana\",\"Platano\",\"Pera\"]\n",
    "print (mis_frutas)"
   ]
  },
  {
   "cell_type": "code",
   "execution_count": 10,
   "metadata": {},
   "outputs": [
    {
     "name": "stdout",
     "output_type": "stream",
     "text": [
      "Manzana\n"
     ]
    }
   ],
   "source": [
    "mis_frutas = [\"Manzana\",\"Platano\",\"Pera\"]\n",
    "print (mis_frutas[0])"
   ]
  },
  {
   "cell_type": "markdown",
   "metadata": {},
   "source": [
    "## Metodos de cadena"
   ]
  },
  {
   "cell_type": "code",
   "execution_count": 12,
   "metadata": {},
   "outputs": [
    {
     "name": "stdout",
     "output_type": "stream",
     "text": [
      "['Manzana', 'Platano']\n",
      "['Pera', 'limon']\n"
     ]
    }
   ],
   "source": [
    "mis_frutas = [\"Manzana\",\"Platano\",\"Pera\",\"limon\"]\n",
    "print (mis_frutas[0:2])\n",
    "print (mis_frutas[2:4])"
   ]
  },
  {
   "cell_type": "code",
   "execution_count": 13,
   "metadata": {},
   "outputs": [
    {
     "data": {
      "text/plain": [
       "'El'"
      ]
     },
     "execution_count": 13,
     "metadata": {},
     "output_type": "execute_result"
    }
   ],
   "source": [
    "palabra = \"El castillo vagabundo \"\n",
    "palabra[0:2]"
   ]
  },
  {
   "cell_type": "code",
   "execution_count": 14,
   "metadata": {},
   "outputs": [
    {
     "name": "stdout",
     "output_type": "stream",
     "text": [
      "limon\n"
     ]
    }
   ],
   "source": [
    "mis_frutas = [\"Manzana\",\"Platano\",\"Pera\",\"limon\"]\n",
    "print (mis_frutas[-1])\n"
   ]
  },
  {
   "cell_type": "code",
   "execution_count": 49,
   "metadata": {},
   "outputs": [
    {
     "name": "stdout",
     "output_type": "stream",
     "text": [
      "[4, 5, 6, 12, 13, 13, 15, 16, 17, 19]\n"
     ]
    }
   ],
   "source": [
    "mis_numeros = [15,13,4,6,19,5,17,16,13,12]\n",
    "mis_numeros.sort()\n",
    "print (mis_numeros)"
   ]
  },
  {
   "cell_type": "code",
   "execution_count": 48,
   "metadata": {},
   "outputs": [
    {
     "name": "stdout",
     "output_type": "stream",
     "text": [
      "[19, 17, 16, 15, 13, 13, 12, 6, 5, 4]\n"
     ]
    }
   ],
   "source": [
    "mis_numeros = [15,13,4,6,19,5,17,16,13,12]\n",
    "mis_numeros.sort(reverse=True)\n",
    "print (mis_numeros)"
   ]
  },
  {
   "cell_type": "code",
   "execution_count": 47,
   "metadata": {},
   "outputs": [
    {
     "data": {
      "text/plain": [
       "2"
      ]
     },
     "execution_count": 47,
     "metadata": {},
     "output_type": "execute_result"
    }
   ],
   "source": [
    "mis_numeros = [15,13,4,6,19,5,17,16,13,12]\n",
    "mis_numeros.count(13)\n",
    "\n",
    "\n"
   ]
  },
  {
   "cell_type": "code",
   "execution_count": 43,
   "metadata": {},
   "outputs": [
    {
     "data": {
      "text/plain": [
       "121"
      ]
     },
     "execution_count": 43,
     "metadata": {},
     "output_type": "execute_result"
    }
   ],
   "source": [
    "\n",
    "sum(mis_numeros)"
   ]
  },
  {
   "cell_type": "markdown",
   "metadata": {},
   "source": [
    "## Actividad "
   ]
  },
  {
   "cell_type": "markdown",
   "metadata": {},
   "source": [
    "$$\\frac{1}{2}\\sum{i}^{n} x_i$$\n"
   ]
  },
  {
   "cell_type": "code",
   "execution_count": 50,
   "metadata": {},
   "outputs": [
    {
     "name": "stdout",
     "output_type": "stream",
     "text": [
      "El promedio es 12.0\n"
     ]
    }
   ],
   "source": [
    "\n",
    "\n",
    "prom = sum(mis_numeros) / len(mis_numeros)\n",
    "print(f\"El promedio es {prom}\")"
   ]
  },
  {
   "cell_type": "code",
   "execution_count": 51,
   "metadata": {},
   "outputs": [
    {
     "data": {
      "text/plain": [
       "10"
      ]
     },
     "execution_count": 51,
     "metadata": {},
     "output_type": "execute_result"
    }
   ],
   "source": [
    "len(mis_numeros)"
   ]
  },
  {
   "cell_type": "code",
   "execution_count": null,
   "metadata": {},
   "outputs": [],
   "source": []
  }
 ],
 "metadata": {
  "kernelspec": {
   "display_name": "Python 3.11.0 64-bit",
   "language": "python",
   "name": "python3"
  },
  "language_info": {
   "codemirror_mode": {
    "name": "ipython",
    "version": 3
   },
   "file_extension": ".py",
   "mimetype": "text/x-python",
   "name": "python",
   "nbconvert_exporter": "python",
   "pygments_lexer": "ipython3",
   "version": "3.11.0"
  },
  "orig_nbformat": 4,
  "vscode": {
   "interpreter": {
    "hash": "180b3e56504480354a808512b284983a3fbf0035bd097d20942acda924fa623f"
   }
  }
 },
 "nbformat": 4,
 "nbformat_minor": 2
}
