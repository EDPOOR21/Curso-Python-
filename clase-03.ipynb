{
 "cells": [
  {
   "cell_type": "markdown",
   "metadata": {},
   "source": [
    "# Clase 4"
   ]
  },
  {
   "cell_type": "markdown",
   "metadata": {},
   "source": [
    "## Ciclo While"
   ]
  },
  {
   "cell_type": "code",
   "execution_count": 2,
   "metadata": {},
   "outputs": [
    {
     "name": "stdout",
     "output_type": "stream",
     "text": [
      "Se cumple la condicion\n"
     ]
    }
   ],
   "source": [
    "if 10>8:\n",
    "    print(\"Se cumple la condicion\")"
   ]
  },
  {
   "cell_type": "code",
   "execution_count": 1,
   "metadata": {},
   "outputs": [
    {
     "name": "stdout",
     "output_type": "stream",
     "text": [
      "Se cuplen las reglas \n",
      "Se cuplen las reglas \n",
      "Se cuplen las reglas \n",
      "Se cuplen las reglas \n",
      "Se cuplen las reglas \n",
      "Se cuplen las reglas \n"
     ]
    }
   ],
   "source": [
    "contador = 0\n",
    "while contador <=5:\n",
    "    print (\"Se cuplen las reglas \")\n",
    "    contador = contador + 1 \n"
   ]
  },
  {
   "cell_type": "markdown",
   "metadata": {},
   "source": [
    "## Actividad 1"
   ]
  },
  {
   "cell_type": "code",
   "execution_count": 3,
   "metadata": {},
   "outputs": [
    {
     "name": "stdout",
     "output_type": "stream",
     "text": [
      "Necesitas crear una contraseña de mas de 6 digitos\n",
      "Usuario registrado\n"
     ]
    }
   ],
   "source": [
    "auth = 0\n",
    "while auth == 0:\n",
    "    username = input(\"Cual es tu usuario?\")\n",
    "    password = input(\"Dame tu contraseña?\")\n",
    "\n",
    "    if len(password) < 6:\n",
    "        print (\"Necesitas crear una contraseña de mas de 6 digitos\")\n",
    "    else:\n",
    "        print(\"Usuario registrado\")\n",
    "        auth = 1"
   ]
  },
  {
   "cell_type": "markdown",
   "metadata": {},
   "source": [
    "### For de rangos"
   ]
  },
  {
   "cell_type": "code",
   "execution_count": 5,
   "metadata": {},
   "outputs": [
    {
     "name": "stdout",
     "output_type": "stream",
     "text": [
      "Hola mundo\n",
      "Hola mundo\n",
      "Hola mundo\n",
      "Hola mundo\n",
      "Hola mundo\n",
      "Hola mundo\n",
      "Hola mundo\n",
      "Hola mundo\n"
     ]
    }
   ],
   "source": [
    "for indice in range(8):\n",
    "    print (\"Hola mundo\")"
   ]
  },
  {
   "cell_type": "code",
   "execution_count": 6,
   "metadata": {},
   "outputs": [
    {
     "name": "stdout",
     "output_type": "stream",
     "text": [
      "0\n",
      "1\n",
      "2\n",
      "3\n",
      "4\n",
      "5\n",
      "6\n",
      "7\n",
      "8\n",
      "9\n"
     ]
    }
   ],
   "source": [
    "for i in range(10):\n",
    "    print (i)"
   ]
  },
  {
   "cell_type": "code",
   "execution_count": 7,
   "metadata": {},
   "outputs": [
    {
     "name": "stdout",
     "output_type": "stream",
     "text": [
      "5\n",
      "6\n",
      "7\n",
      "8\n",
      "9\n",
      "10\n",
      "11\n",
      "12\n",
      "13\n",
      "14\n"
     ]
    }
   ],
   "source": [
    "for i in range(5,15):\n",
    "    print(i)"
   ]
  },
  {
   "cell_type": "code",
   "execution_count": 8,
   "metadata": {},
   "outputs": [
    {
     "name": "stdout",
     "output_type": "stream",
     "text": [
      "5\n",
      "7\n",
      "9\n",
      "11\n",
      "13\n",
      "15\n",
      "17\n",
      "19\n",
      "21\n",
      "23\n"
     ]
    }
   ],
   "source": [
    "for i in range(5,25,2):\n",
    "    print(i)"
   ]
  },
  {
   "cell_type": "code",
   "execution_count": 9,
   "metadata": {},
   "outputs": [
    {
     "name": "stdout",
     "output_type": "stream",
     "text": [
      "0\n",
      "1\n",
      "2\n",
      "3\n",
      "4\n"
     ]
    }
   ],
   "source": [
    "n = int(input(\"Cuantas veces?\"))\n",
    "for i in range(n):\n",
    "    print(i)"
   ]
  },
  {
   "cell_type": "code",
   "execution_count": 10,
   "metadata": {},
   "outputs": [
    {
     "name": "stdout",
     "output_type": "stream",
     "text": [
      "[0]\n",
      "[0, 1]\n",
      "[0, 1, 4]\n",
      "[0, 1, 4, 9]\n",
      "[0, 1, 4, 9, 16]\n",
      "[0, 1, 4, 9, 16, 25]\n",
      "[0, 1, 4, 9, 16, 25, 36]\n",
      "[0, 1, 4, 9, 16, 25, 36, 49]\n",
      "[0, 1, 4, 9, 16, 25, 36, 49, 64]\n",
      "[0, 1, 4, 9, 16, 25, 36, 49, 64, 81]\n"
     ]
    }
   ],
   "source": [
    "numeros_al_cuadrado = []\n",
    "for i in range(10):\n",
    "    numeros_al_cuadrado.append(i**2)\n",
    "    print (numeros_al_cuadrado)"
   ]
  },
  {
   "cell_type": "markdown",
   "metadata": {},
   "source": [
    "## For y listas"
   ]
  },
  {
   "cell_type": "markdown",
   "metadata": {},
   "source": []
  },
  {
   "cell_type": "code",
   "execution_count": 12,
   "metadata": {},
   "outputs": [
    {
     "name": "stdout",
     "output_type": "stream",
     "text": [
      "manzana\n",
      "platano\n",
      "pera\n",
      "naranja\n"
     ]
    }
   ],
   "source": [
    "mis_frutas = [\"manzana\",\"platano\",\"pera\",\"naranja\"]\n",
    "for i in range(4):\n",
    "    print (mis_frutas[i])"
   ]
  },
  {
   "cell_type": "code",
   "execution_count": 14,
   "metadata": {},
   "outputs": [
    {
     "name": "stdout",
     "output_type": "stream",
     "text": [
      "manzana\n",
      "platano\n",
      "pera\n",
      "naranja\n"
     ]
    }
   ],
   "source": [
    "for i in range (len(mis_frutas)):\n",
    "    print (mis_frutas[i])"
   ]
  },
  {
   "cell_type": "code",
   "execution_count": 15,
   "metadata": {},
   "outputs": [
    {
     "name": "stdout",
     "output_type": "stream",
     "text": [
      "manzana\n",
      "platano\n",
      "pera\n",
      "naranja\n"
     ]
    }
   ],
   "source": [
    "for element in mis_frutas:\n",
    "    print (element)"
   ]
  },
  {
   "cell_type": "code",
   "execution_count": 16,
   "metadata": {},
   "outputs": [
    {
     "name": "stdout",
     "output_type": "stream",
     "text": [
      "manzana\n",
      "platano\n",
      "pera\n",
      "naranja\n"
     ]
    }
   ],
   "source": [
    "for e in mis_frutas:\n",
    "    print (e)"
   ]
  },
  {
   "cell_type": "markdown",
   "metadata": {},
   "source": [
    "## Actividad 2 "
   ]
  },
  {
   "cell_type": "code",
   "execution_count": 17,
   "metadata": {},
   "outputs": [
    {
     "name": "stdout",
     "output_type": "stream",
     "text": [
      "cuantas calificaciones seran?\n"
     ]
    }
   ],
   "source": [
    "print(\"cuantas calificaciones seran?\")\n"
   ]
  },
  {
   "cell_type": "code",
   "execution_count": null,
   "metadata": {},
   "outputs": [],
   "source": []
  }
 ],
 "metadata": {
  "kernelspec": {
   "display_name": "Python 3.11.0 64-bit",
   "language": "python",
   "name": "python3"
  },
  "language_info": {
   "codemirror_mode": {
    "name": "ipython",
    "version": 3
   },
   "file_extension": ".py",
   "mimetype": "text/x-python",
   "name": "python",
   "nbconvert_exporter": "python",
   "pygments_lexer": "ipython3",
   "version": "3.11.0 (main, Oct 24 2022, 18:26:48) [MSC v.1933 64 bit (AMD64)]"
  },
  "orig_nbformat": 4,
  "vscode": {
   "interpreter": {
    "hash": "180b3e56504480354a808512b284983a3fbf0035bd097d20942acda924fa623f"
   }
  }
 },
 "nbformat": 4,
 "nbformat_minor": 2
}
